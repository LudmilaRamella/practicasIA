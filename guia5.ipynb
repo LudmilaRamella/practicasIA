{
  "nbformat": 4,
  "nbformat_minor": 0,
  "metadata": {
    "colab": {
      "provenance": [],
      "authorship_tag": "ABX9TyMsjNzFYAOwAWKmgERM47DE",
      "include_colab_link": true
    },
    "kernelspec": {
      "name": "python3",
      "display_name": "Python 3"
    },
    "language_info": {
      "name": "python"
    }
  },
  "cells": [
    {
      "cell_type": "markdown",
      "metadata": {
        "id": "view-in-github",
        "colab_type": "text"
      },
      "source": [
        "<a href=\"https://colab.research.google.com/github/LudmilaRamella/practicasIA/blob/main/guia5.ipynb\" target=\"_parent\"><img src=\"https://colab.research.google.com/assets/colab-badge.svg\" alt=\"Open In Colab\"/></a>"
      ]
    },
    {
      "cell_type": "markdown",
      "source": [
        "Guia 5: Ordenamiento y busqueda"
      ],
      "metadata": {
        "id": "oGdGDKt4LduI"
      }
    },
    {
      "cell_type": "markdown",
      "source": [
        "ejercicio 1: Escribe un programa que solicite al usuario una serie de 10 números separados por espacios y luego ordene esos números de forma ascendente. Utiliza el algoritmo de ordenamiento de burbuja para implementar la solución.\n"
      ],
      "metadata": {
        "id": "CrYQhqjoLhun"
      }
    },
    {
      "cell_type": "code",
      "execution_count": null,
      "metadata": {
        "id": "oi_wwW8vLcz1"
      },
      "outputs": [],
      "source": [
        "def bubble_sort(numbers):\n",
        "    n = len(numbers)\n",
        "    for i in range(n):\n",
        "        for j in range(0, n-i-1):\n",
        "            if numbers[j] > numbers[j+1]:\n",
        "                numbers[j], numbers[j+1] = numbers[j+1], numbers[j]\n",
        "    return numbers\n",
        "\n",
        "user_input = input(\"Introduce 10 números separados por espacios: \")\n",
        "\n",
        "numbers = list(map(int, user_input.split()))\n",
        "\n",
        "if len(numbers) == 10:\n",
        "    sorted_numbers = bubble_sort(numbers)\n",
        "    print(\"Números ordenados:\", sorted_numbers)\n",
        "else:\n",
        "    print(\"Por favor, introduce 10 números.\")\n"
      ]
    },
    {
      "cell_type": "markdown",
      "source": [
        "ejercicio 2: scribe un programa que solicite al usuario una serie de 10 palabras separadas por espacios y luego ordene esas palabras alfabéticamente. Utiliza el método sort() para ordenar la lista de palabras.\n"
      ],
      "metadata": {
        "id": "bYfk0eEvMDdQ"
      }
    },
    {
      "cell_type": "code",
      "source": [
        "user_input = input(\"Introduce 10 palabras separadas por espacios: \")\n",
        "\n",
        "words = user_input.split()\n",
        "\n",
        "if len(words) == 10:\n",
        "    words.sort()\n",
        "    print(\"Palabras ordenadas alfabéticamente:\", words)\n",
        "else:\n",
        "    print(\"Por favor, introduce exactamente 10 palabras.\")\n"
      ],
      "metadata": {
        "id": "yfLPGu4AMGTm"
      },
      "execution_count": null,
      "outputs": []
    },
    {
      "cell_type": "markdown",
      "source": [
        "ejercicio 3: Escribe un programa que solicite al usuario ingresar una lista de 8 números enteros separados por espacios. Luego, utiliza el método de ordenamiento por inserción para ordenar la lista en orden ascendente. Finalmente, muestra la lista ordenada al usuario.\n",
        "\n",
        "Requisitos adicionales:\n",
        "\n",
        "El programa debe manejar correctamente los números negativos.\n",
        "El programa debe validar que se ingresen únicamente números enteros y manejar errores en caso contrario.\n"
      ],
      "metadata": {
        "id": "JUCwcJqMMsU-"
      }
    },
    {
      "cell_type": "code",
      "source": [
        "def insertion_sort(numbers):\n",
        "    for i in range(1, len(numbers)):\n",
        "        key = numbers[i]\n",
        "        j = i - 1\n",
        "        while j >= 0 and key < numbers[j]:\n",
        "            numbers[j + 1] = numbers[j]\n",
        "            j -= 1\n",
        "        numbers[j + 1] = key\n",
        "    return numbers\n",
        "\n",
        "def validate_input(user_input):\n",
        "    try:\n",
        "        numbers = list(map(int, user_input.split()))\n",
        "        if len(numbers) == 8:\n",
        "            return numbers\n",
        "        else:\n",
        "            print(\"Por favor, introduce exactamente 8 números.\")\n",
        "            return None\n",
        "    except ValueError:\n",
        "        print(\"Error: Todos los valores deben ser números enteros.\")\n",
        "        return None\n",
        "\n",
        "user_input = input(\"Introduce 8 números enteros separados por espacios: \")\n",
        "\n",
        "numbers = validate_input(user_input)\n",
        "\n",
        "if numbers:\n",
        "    sorted_numbers = insertion_sort(numbers)\n",
        "    print(\"Números ordenados de forma ascendente:\", sorted_numbers)\n"
      ],
      "metadata": {
        "id": "L0nT8p76Mzrl"
      },
      "execution_count": null,
      "outputs": []
    },
    {
      "cell_type": "markdown",
      "source": [
        "ejercicio 4: Escribe un programa que solicite al usuario ingresar una lista de 8 números enteros separados por espacios. Luego, utiliza el método de ordenamiento por selección para ordenar la lista en orden ascendente. Finalmente, muestra la lista ordenada al usuario.\n",
        "\n",
        "Requisitos adicionales:\n",
        "\n",
        "El programa debe manejar correctamente los números negativos.\n",
        "El programa debe validar que se ingresen únicamente números enteros y manejar errores en caso contrario.\n"
      ],
      "metadata": {
        "id": "xZ3J-qHmM5J1"
      }
    },
    {
      "cell_type": "code",
      "source": [
        "def selection_sort(numbers):\n",
        "    n = len(numbers)\n",
        "    for i in range(n):\n",
        "        min_index = i\n",
        "        for j in range(i+1, n):\n",
        "            if numbers[j] < numbers[min_index]:\n",
        "                min_index = j\n",
        "        numbers[i], numbers[min_index] = numbers[min_index], numbers[i]\n",
        "    return numbers\n",
        "\n",
        "def validate_input(user_input):\n",
        "    try:\n",
        "        numbers = list(map(int, user_input.split()))\n",
        "        if len(numbers) == 8:\n",
        "            return numbers\n",
        "        else:\n",
        "            print(\"Por favor, introduce exactamente 8 números.\")\n",
        "            return None\n",
        "    except ValueError:\n",
        "        print(\"Error: Todos los valores deben ser números enteros.\")\n",
        "        return None\n",
        "\n",
        "user_input = input(\"Introduce 8 números enteros separados por espacios: \")\n",
        "\n",
        "numbers = validate_input(user_input)\n",
        "\n",
        "if numbers:\n",
        "    sorted_numbers = selection_sort(numbers)\n",
        "    print(\"Números ordenados de forma ascendente:\", sorted_numbers)\n"
      ],
      "metadata": {
        "id": "6XQR93KfM-UV"
      },
      "execution_count": null,
      "outputs": []
    },
    {
      "cell_type": "markdown",
      "source": [
        "ejercicio 5: Escribe una función que tome una lista de números y un valor objetivo, y realice una búsqueda lineal para determinar si el valor objetivo está presente en la lista. La función debe devolver True si el valor objetivo se encuentra en la lista y False en caso contrario.\n"
      ],
      "metadata": {
        "id": "0w5jsgdUNKQ1"
      }
    },
    {
      "cell_type": "code",
      "source": [
        "def busqueda_lineal(lista, objetivo):\n",
        "    for elemento in lista:\n",
        "        if elemento == objetivo:\n",
        "            return True\n",
        "    return False\n",
        "\n",
        "numeros = [4, 2, 9, 7, 3, 10, 1]\n",
        "valor_objetivo = 7\n",
        "\n",
        "encontrado = busqueda_lineal(numeros, valor_objetivo)\n",
        "\n",
        "if encontrado:\n",
        "    print(f\"El valor {valor_objetivo} está en la lista.\")\n",
        "else:\n",
        "    print(f\"El valor {valor_objetivo} no está en la lista.\")\n"
      ],
      "metadata": {
        "id": "RqMLVcK4NQrd"
      },
      "execution_count": null,
      "outputs": []
    },
    {
      "cell_type": "markdown",
      "source": [
        "ejercicio 6: Escribe una función que tome una lista de 12 números ordenados de forma ascendente y un valor objetivo, y realice una búsqueda binaria para determinar si el valor objetivo está presente en la lista. La función debe devolver True si el valor objetivo se encuentra en la lista y False en caso contrario.\n"
      ],
      "metadata": {
        "id": "T-2b-z4fNWnE"
      }
    },
    {
      "cell_type": "code",
      "source": [
        "def busqueda_binaria(lista, objetivo):\n",
        "    inicio = 0\n",
        "    fin = len(lista) - 1\n",
        "\n",
        "    while inicio <= fin:\n",
        "        medio = (inicio + fin) // 2\n",
        "\n",
        "        if lista[medio] == objetivo:\n",
        "            return True\n",
        "        elif lista[medio] > objetivo:\n",
        "            fin = medio - 1\n",
        "        else:\n",
        "            inicio = medio + 1\n",
        "\n",
        "    return False\n",
        "\n",
        "numeros = [1, 3, 5, 7, 9, 11, 13, 15, 17, 19, 21, 23]\n",
        "valor_objetivo = 15\n",
        "\n",
        "encontrado = busqueda_binaria(numeros, valor_objetivo)\n",
        "\n",
        "if encontrado:\n",
        "    print(f\"El valor {valor_objetivo} está en la lista.\")\n",
        "else:\n",
        "    print(f\"El valor {valor_objetivo} no está en la lista.\")\n"
      ],
      "metadata": {
        "id": "dJBA4FLxNbpV"
      },
      "execution_count": null,
      "outputs": []
    },
    {
      "cell_type": "markdown",
      "source": [
        "ejercicio 7: Escribe un programa que solicite al usuario ingresar una lista de números separados por espacios. Luego, pide al usuario que ingrese un número específico y utiliza el método index() para encontrar el índice de la primera aparición de ese número en la lista. Muestra el índice encontrado al usuario.\n"
      ],
      "metadata": {
        "id": "m7WyoP5TNk9F"
      }
    },
    {
      "cell_type": "code",
      "source": [
        "numeros_str = input(\"Introduce una lista de números separados por espacios: \")\n",
        "\n",
        "numeros = list(map(int, numeros_str.split()))\n",
        "\n",
        "numero_objetivo = int(input(\"Introduce el número que deseas encontrar: \"))\n",
        "\n",
        "try:\n",
        "    indice = numeros.index(numero_objetivo)\n",
        "    print(f\"El número {numero_objetivo} se encuentra en el índice {indice}.\")\n",
        "except ValueError:\n",
        "    print(f\"El número {numero_objetivo} no se encuentra en la lista.\")\n"
      ],
      "metadata": {
        "id": "bFbmXpIMNpht"
      },
      "execution_count": null,
      "outputs": []
    },
    {
      "cell_type": "markdown",
      "source": [
        "ejercicio 8: Escribe una función que tome una lista de objetos (por ejemplo, objetos de una clase particular) y un valor objetivo, y realice una búsqueda para determinar si algún objeto de la lista tiene una propiedad o atributo específico igual al valor objetivo. La función debe devolver True si se encuentra un objeto con la propiedad deseada y False en caso contrario."
      ],
      "metadata": {
        "id": "-nlRQ_ocNsqM"
      }
    },
    {
      "cell_type": "code",
      "source": [
        "class Producto:\n",
        "    def __init__(self, nombre, precio):\n",
        "        self.nombre = nombre\n",
        "        self.precio = precio\n",
        "\n",
        "def buscar_por_atributo(lista_objetos, atributo, valor_objetivo):\n",
        "    for objeto in lista_objetos:\n",
        "        if getattr(objeto, atributo, None) == valor_objetivo:\n",
        "            return True\n",
        "    return False\n",
        "\n",
        "producto1 = Producto(\"Laptop\", 1500)\n",
        "producto2 = Producto(\"Teléfono\", 800)\n",
        "producto3 = Producto(\"Tablet\", 400)\n",
        "\n",
        "productos = [producto1, producto2, producto3]\n",
        "\n",
        "encontrado = buscar_por_atributo(productos, \"nombre\", \"Teléfono\")\n",
        "\n",
        "if encontrado:\n",
        "    print(\"Se encontró un producto con el nombre 'Teléfono'.\")\n",
        "else:\n",
        "    print(\"No se encontró ningún producto con el nombre 'Teléfono'.\")\n"
      ],
      "metadata": {
        "id": "Dx5ugTtFNuVM"
      },
      "execution_count": null,
      "outputs": []
    }
  ]
}