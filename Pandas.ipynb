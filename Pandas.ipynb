{
  "nbformat": 4,
  "nbformat_minor": 0,
  "metadata": {
    "colab": {
      "provenance": [],
      "authorship_tag": "ABX9TyMytWm1eIqxHVR1dgFWrrfS",
      "include_colab_link": true
    },
    "kernelspec": {
      "name": "python3",
      "display_name": "Python 3"
    },
    "language_info": {
      "name": "python"
    }
  },
  "cells": [
    {
      "cell_type": "markdown",
      "metadata": {
        "id": "view-in-github",
        "colab_type": "text"
      },
      "source": [
        "<a href=\"https://colab.research.google.com/github/LudmilaRamella/practicasIA/blob/main/Pandas.ipynb\" target=\"_parent\"><img src=\"https://colab.research.google.com/assets/colab-badge.svg\" alt=\"Open In Colab\"/></a>"
      ]
    },
    {
      "cell_type": "markdown",
      "source": [
        "Crear un dataframe con la información de los empleados"
      ],
      "metadata": {
        "id": "1E21GdJ7qSJy"
      }
    },
    {
      "cell_type": "code",
      "execution_count": 1,
      "metadata": {
        "colab": {
          "base_uri": "https://localhost:8080/"
        },
        "id": "JCBclDkhqNbN",
        "outputId": "686abbfc-2977-4634-bb90-823d8ad41263"
      },
      "outputs": [
        {
          "output_type": "stream",
          "name": "stdout",
          "text": [
            "   Nombre  Edad    Departamento\n",
            "0     Ana    28          Ventas\n",
            "1    Luis    35        Finanzas\n",
            "2   Marta    42              IT\n",
            "3  Carlos    30          Ventas\n",
            "4  Marcos    18  Administracion\n"
          ]
        }
      ],
      "source": [
        "#importrar pandas\n",
        "\n",
        "import pandas as pd\n",
        "\n",
        "#crear dataframe\n",
        "\n",
        "data = {\n",
        "    'Nombre': ['Ana', 'Luis', 'Marta', 'Carlos', 'Marcos'],\n",
        "    'Edad': [28, 35, 42, 30, 18],\n",
        "    'Departamento': ['Ventas', 'Finanzas', 'IT', 'Ventas', 'Administracion'],\n",
        "}\n",
        "\n",
        "df = pd.DataFrame(data)\n",
        "\n",
        "print(df)"
      ]
    },
    {
      "cell_type": "markdown",
      "source": [
        "Filtrar empleados de mas de 30 años"
      ],
      "metadata": {
        "id": "ROLUEo8ltyIV"
      }
    },
    {
      "cell_type": "code",
      "source": [
        "df_empleados_mayores = df[df['Edad']>30]\n",
        "\n",
        "print(df_empleados_mayores)"
      ],
      "metadata": {
        "colab": {
          "base_uri": "https://localhost:8080/"
        },
        "id": "8xoeWd7yt8ha",
        "outputId": "85056679-5b40-4d46-c79d-f9fc475a520f"
      },
      "execution_count": 2,
      "outputs": [
        {
          "output_type": "stream",
          "name": "stdout",
          "text": [
            "  Nombre  Edad Departamento\n",
            "1   Luis    35     Finanzas\n",
            "2  Marta    42           IT\n"
          ]
        }
      ]
    },
    {
      "cell_type": "markdown",
      "source": [
        "Añadir años de experiencia"
      ],
      "metadata": {
        "id": "0H22jh5-uZJl"
      }
    },
    {
      "cell_type": "code",
      "source": [
        "df['Años de Experiencia'] = [5, 10, 15, 3, 8]\n",
        "\n",
        "print(df)"
      ],
      "metadata": {
        "colab": {
          "base_uri": "https://localhost:8080/"
        },
        "id": "rx0gUGpmudsl",
        "outputId": "b5f8216e-41ff-4c7e-eca1-1a232faebbec"
      },
      "execution_count": 4,
      "outputs": [
        {
          "output_type": "stream",
          "name": "stdout",
          "text": [
            "   Nombre  Edad    Departamento  Años de Experiencia\n",
            "0     Ana    28          Ventas                    5\n",
            "1    Luis    35        Finanzas                   10\n",
            "2   Marta    42              IT                   15\n",
            "3  Carlos    30          Ventas                    3\n",
            "4  Marcos    18  Administracion                    8\n"
          ]
        }
      ]
    },
    {
      "cell_type": "markdown",
      "source": [
        "Añadir cantidad de años faltantes para jubilarse"
      ],
      "metadata": {
        "id": "l1JdexdTvCBW"
      }
    },
    {
      "cell_type": "code",
      "source": [
        "df['Años faltantes para jubilarse'] = 60 - df['Edad']\n",
        "\n",
        "print(df)"
      ],
      "metadata": {
        "colab": {
          "base_uri": "https://localhost:8080/"
        },
        "id": "EDQbFceevLLQ",
        "outputId": "b63432bf-66ea-491d-fddc-c5a980e89b4f"
      },
      "execution_count": 6,
      "outputs": [
        {
          "output_type": "stream",
          "name": "stdout",
          "text": [
            "   Nombre  Edad    Departamento  Años de Experiencia  \\\n",
            "0     Ana    28          Ventas                    5   \n",
            "1    Luis    35        Finanzas                   10   \n",
            "2   Marta    42              IT                   15   \n",
            "3  Carlos    30          Ventas                    3   \n",
            "4  Marcos    18  Administracion                    8   \n",
            "\n",
            "   Años faltantes para jubilarse  \n",
            "0                             32  \n",
            "1                             25  \n",
            "2                             18  \n",
            "3                             30  \n",
            "4                             42  \n"
          ]
        }
      ]
    },
    {
      "cell_type": "markdown",
      "source": [
        "Agrupar empleados por departamento"
      ],
      "metadata": {
        "id": "pudFHk3Fvij0"
      }
    },
    {
      "cell_type": "code",
      "source": [
        "grupo_departamento = df.groupby('Departamento')\n",
        "\n",
        "for nombre, grupo in grupo_departamento:\n",
        "    print(f\"Departamento: {nombre}\")\n",
        "    print(grupo)\n",
        "    print()"
      ],
      "metadata": {
        "colab": {
          "base_uri": "https://localhost:8080/"
        },
        "id": "WPWTQ262v4kf",
        "outputId": "385932f3-e6ac-4a17-d77b-c32531d27e46"
      },
      "execution_count": 11,
      "outputs": [
        {
          "output_type": "stream",
          "name": "stdout",
          "text": [
            "Departamento: Administracion\n",
            "   Nombre  Edad    Departamento  Años de Experiencia  \\\n",
            "4  Marcos    18  Administracion                    8   \n",
            "\n",
            "   Años faltantes para jubilarse  \n",
            "4                             42  \n",
            "\n",
            "Departamento: Finanzas\n",
            "  Nombre  Edad Departamento  Años de Experiencia  \\\n",
            "1   Luis    35     Finanzas                   10   \n",
            "\n",
            "   Años faltantes para jubilarse  \n",
            "1                             25  \n",
            "\n",
            "Departamento: IT\n",
            "  Nombre  Edad Departamento  Años de Experiencia  \\\n",
            "2  Marta    42           IT                   15   \n",
            "\n",
            "   Años faltantes para jubilarse  \n",
            "2                             18  \n",
            "\n",
            "Departamento: Ventas\n",
            "   Nombre  Edad Departamento  Años de Experiencia  \\\n",
            "0     Ana    28       Ventas                    5   \n",
            "3  Carlos    30       Ventas                    3   \n",
            "\n",
            "   Años faltantes para jubilarse  \n",
            "0                             32  \n",
            "3                             30  \n",
            "\n"
          ]
        }
      ]
    },
    {
      "cell_type": "markdown",
      "source": [
        "filtrar ventas"
      ],
      "metadata": {
        "id": "-An0tlkawj-T"
      }
    },
    {
      "cell_type": "code",
      "source": [
        "ventas_empleados = df[df['Departamento'] == 'Ventas']\n",
        "\n",
        "print(\"Empleados en el departamento de Ventas:\")\n",
        "print(ventas_empleados)"
      ],
      "metadata": {
        "colab": {
          "base_uri": "https://localhost:8080/"
        },
        "id": "RWY3Z-ncw5FR",
        "outputId": "c7c1a2ae-7fc5-46f6-fbfc-eef9fe1cf44c"
      },
      "execution_count": 12,
      "outputs": [
        {
          "output_type": "stream",
          "name": "stdout",
          "text": [
            "Empleados en el departamento de Ventas:\n",
            "   Nombre  Edad Departamento  Años de Experiencia  \\\n",
            "0     Ana    28       Ventas                    5   \n",
            "3  Carlos    30       Ventas                    3   \n",
            "\n",
            "   Años faltantes para jubilarse  \n",
            "0                             32  \n",
            "3                             30  \n"
          ]
        }
      ]
    },
    {
      "cell_type": "markdown",
      "source": [
        "Cambiar edad de Luis"
      ],
      "metadata": {
        "id": "7HPrjoEpw7xn"
      }
    },
    {
      "cell_type": "code",
      "source": [
        "df.loc[df['Nombre'] == 'Luis', 'Edad'] = 36\n",
        "\n",
        "print(df)"
      ],
      "metadata": {
        "colab": {
          "base_uri": "https://localhost:8080/"
        },
        "id": "CRfE7yN-w-7N",
        "outputId": "c5166f2d-e556-4baa-e56b-4774756a3f1e"
      },
      "execution_count": 14,
      "outputs": [
        {
          "output_type": "stream",
          "name": "stdout",
          "text": [
            "   Nombre  Edad    Departamento  Años de Experiencia  \\\n",
            "0     Ana    28          Ventas                    5   \n",
            "1    Luis    36        Finanzas                   10   \n",
            "2   Marta    42              IT                   15   \n",
            "3  Carlos    30          Ventas                    3   \n",
            "4  Marcos    18  Administracion                    8   \n",
            "\n",
            "   Años faltantes para jubilarse  \n",
            "0                             32  \n",
            "1                             25  \n",
            "2                             18  \n",
            "3                             30  \n",
            "4                             42  \n"
          ]
        }
      ]
    },
    {
      "cell_type": "markdown",
      "source": [
        "Calcular la edad promedio de los empleados"
      ],
      "metadata": {
        "id": "M20CSRP_xud2"
      }
    },
    {
      "cell_type": "code",
      "source": [
        "edad_promedio = df['Edad'].mean()\n",
        "\n",
        "print(\"La edad promedio de los empleados es: \" + str(edad_promedio))"
      ],
      "metadata": {
        "colab": {
          "base_uri": "https://localhost:8080/"
        },
        "id": "VXsFbhSDxzPZ",
        "outputId": "08719177-aa22-4103-8c6c-d614cb51e91a"
      },
      "execution_count": 15,
      "outputs": [
        {
          "output_type": "stream",
          "name": "stdout",
          "text": [
            "La edad promedio de los empleados es: 30.8\n"
          ]
        }
      ]
    },
    {
      "cell_type": "markdown",
      "source": [
        "Promedio de los años de experiencia"
      ],
      "metadata": {
        "id": "bdp-gqphybW9"
      }
    },
    {
      "cell_type": "code",
      "source": [
        "exp_promedio = df['Años de Experiencia'].mean()\n",
        "\n",
        "print(\"El promedio de los años de exp es: \" + str(exp_promedio))"
      ],
      "metadata": {
        "colab": {
          "base_uri": "https://localhost:8080/"
        },
        "id": "P7I334W4ygFY",
        "outputId": "3e99f0ea-f7ed-43b1-caab-9f764e860214"
      },
      "execution_count": 18,
      "outputs": [
        {
          "output_type": "stream",
          "name": "stdout",
          "text": [
            "El promedio de los años de exp es: 8.2\n"
          ]
        }
      ]
    }
  ]
}