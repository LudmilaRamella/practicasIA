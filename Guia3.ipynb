{
  "nbformat": 4,
  "nbformat_minor": 0,
  "metadata": {
    "colab": {
      "provenance": [],
      "authorship_tag": "ABX9TyNeU83kBnr27NJDcnnnRXIF",
      "include_colab_link": true
    },
    "kernelspec": {
      "name": "python3",
      "display_name": "Python 3"
    },
    "language_info": {
      "name": "python"
    }
  },
  "cells": [
    {
      "cell_type": "markdown",
      "metadata": {
        "id": "view-in-github",
        "colab_type": "text"
      },
      "source": [
        "<a href=\"https://colab.research.google.com/github/LudmilaRamella/practicasIA/blob/main/Guia3.ipynb\" target=\"_parent\"><img src=\"https://colab.research.google.com/assets/colab-badge.svg\" alt=\"Open In Colab\"/></a>"
      ]
    },
    {
      "cell_type": "markdown",
      "source": [
        "Guia 3 (LISTAS)"
      ],
      "metadata": {
        "id": "gNKTBvHTKZZs"
      }
    },
    {
      "cell_type": "markdown",
      "source": [
        "ejercicio 1"
      ],
      "metadata": {
        "id": "U899Q6NcKdUY"
      }
    },
    {
      "cell_type": "code",
      "execution_count": null,
      "metadata": {
        "colab": {
          "base_uri": "https://localhost:8080/"
        },
        "id": "PpFlGtN7JxLs",
        "outputId": "76b74a71-1d5b-4e69-d0b9-cf4c74ece035"
      },
      "outputs": [
        {
          "output_type": "stream",
          "name": "stdout",
          "text": [
            "['manzana', 'banana', 'naranja', 'pera']\n"
          ]
        }
      ],
      "source": [
        "frutas = [\"manzana\", \"banana\", \"naranja\", \"pera\"]\n",
        "print(frutas)"
      ]
    },
    {
      "cell_type": "markdown",
      "source": [
        "ejercicio 2"
      ],
      "metadata": {
        "id": "86A8KOr_K0Uh"
      }
    },
    {
      "cell_type": "code",
      "source": [
        "print(frutas[1])"
      ],
      "metadata": {
        "colab": {
          "base_uri": "https://localhost:8080/"
        },
        "id": "XbUpaqecK2eC",
        "outputId": "c2165890-7c0d-4d8c-b7b6-846499f26960"
      },
      "execution_count": null,
      "outputs": [
        {
          "output_type": "stream",
          "name": "stdout",
          "text": [
            "banana\n"
          ]
        }
      ]
    },
    {
      "cell_type": "markdown",
      "source": [
        "ejercicio 3"
      ],
      "metadata": {
        "id": "jKjlh8BALMYk"
      }
    },
    {
      "cell_type": "code",
      "source": [
        "frutas[0] = \"cerezas\"\n",
        "print(frutas)"
      ],
      "metadata": {
        "colab": {
          "base_uri": "https://localhost:8080/"
        },
        "id": "vFgHOQAhLOAz",
        "outputId": "2c7283ed-8a7a-424d-f30a-56124f5a7b1d"
      },
      "execution_count": null,
      "outputs": [
        {
          "output_type": "stream",
          "name": "stdout",
          "text": [
            "['cerezas', 'banana', 'naranja', 'pera']\n"
          ]
        }
      ]
    },
    {
      "cell_type": "markdown",
      "source": [
        "ejercicio 4"
      ],
      "metadata": {
        "id": "pTFXRxrtLl_V"
      }
    },
    {
      "cell_type": "code",
      "source": [
        "frutas.append(\"sandia\")\n",
        "print(frutas)"
      ],
      "metadata": {
        "colab": {
          "base_uri": "https://localhost:8080/"
        },
        "id": "L8AlDfolLnd8",
        "outputId": "ed2457f8-df89-4ff9-d3bc-d64f9cac546f"
      },
      "execution_count": null,
      "outputs": [
        {
          "output_type": "stream",
          "name": "stdout",
          "text": [
            "['cerezas', 'banana', 'naranja', 'pera', 'sandia']\n"
          ]
        }
      ]
    },
    {
      "cell_type": "markdown",
      "source": [
        "ejercicio 5"
      ],
      "metadata": {
        "id": "aELDwHDLLv3O"
      }
    },
    {
      "cell_type": "code",
      "source": [
        "frutas.remove(\"naranja\")\n",
        "print(frutas)"
      ],
      "metadata": {
        "colab": {
          "base_uri": "https://localhost:8080/"
        },
        "id": "ghwpZvYLLxbZ",
        "outputId": "6d713948-a920-4109-ca3d-1bfcaed64113"
      },
      "execution_count": null,
      "outputs": [
        {
          "output_type": "stream",
          "name": "stdout",
          "text": [
            "['cerezas', 'banana', 'pera', 'sandia']\n"
          ]
        }
      ]
    },
    {
      "cell_type": "markdown",
      "source": [
        "ejercicio 6"
      ],
      "metadata": {
        "id": "xsHA4302L5tP"
      }
    },
    {
      "cell_type": "code",
      "source": [
        "numeros = [1, 2, 3, 4, 5]\n",
        "for i in numeros:\n",
        "  print(i)"
      ],
      "metadata": {
        "colab": {
          "base_uri": "https://localhost:8080/"
        },
        "id": "qLph0XiVL70K",
        "outputId": "c29ddfc4-0615-4ea8-b4aa-638686dd743d"
      },
      "execution_count": null,
      "outputs": [
        {
          "output_type": "stream",
          "name": "stdout",
          "text": [
            "1\n",
            "2\n",
            "3\n",
            "4\n",
            "5\n"
          ]
        }
      ]
    },
    {
      "cell_type": "markdown",
      "source": [
        "ejercicio 7"
      ],
      "metadata": {
        "id": "UDoBu1YvMftn"
      }
    },
    {
      "cell_type": "code",
      "source": [
        "pares = [2, 4, 6, 8, 10]\n",
        "pares.reverse()\n",
        "pares.sort()\n",
        "print(pares)\n"
      ],
      "metadata": {
        "colab": {
          "base_uri": "https://localhost:8080/"
        },
        "id": "OPU8nVREMhRL",
        "outputId": "01466d63-f043-4cf0-c7ca-42d67a3199a0"
      },
      "execution_count": null,
      "outputs": [
        {
          "output_type": "stream",
          "name": "stdout",
          "text": [
            "[2, 4, 6, 8, 10]\n"
          ]
        }
      ]
    },
    {
      "cell_type": "markdown",
      "source": [
        "ejercicio 8"
      ],
      "metadata": {
        "id": "uiX_uuqWNehm"
      }
    },
    {
      "cell_type": "code",
      "source": [
        "cuadrados = [x**2 for x in range(1,6)]\n",
        "print(cuadrados)"
      ],
      "metadata": {
        "colab": {
          "base_uri": "https://localhost:8080/"
        },
        "id": "oCfUPPJUNg5L",
        "outputId": "95ec4b18-8605-4562-955c-fbebb1604484"
      },
      "execution_count": null,
      "outputs": [
        {
          "output_type": "stream",
          "name": "stdout",
          "text": [
            "[1, 4, 9, 16, 25]\n"
          ]
        }
      ]
    },
    {
      "cell_type": "markdown",
      "source": [
        "ejercicio 9"
      ],
      "metadata": {
        "id": "RVMIHPvQOJE4"
      }
    },
    {
      "cell_type": "code",
      "source": [
        "nombres = [\"lu\", \"anto\", \"juan\", \"ana\"]\n",
        "nom = input(\"ingrese un nombre: \")\n",
        "for i in nombres:\n",
        "  if i == nom:\n",
        "    print(\"el nombre esta en la lista\")"
      ],
      "metadata": {
        "id": "9NTyoJ4BOfuQ"
      },
      "execution_count": null,
      "outputs": []
    },
    {
      "cell_type": "markdown",
      "source": [
        "ejercicio 10"
      ],
      "metadata": {
        "id": "b_mMl7TlP6VO"
      }
    },
    {
      "cell_type": "code",
      "source": [
        "numeros = list(range(1, 11))\n",
        "\n",
        "sublistas = [numeros[i:i + 3] for i in range(0, len(numeros), 3)]\n",
        "\n",
        "for sublista in sublistas:\n",
        "    print(sublista)"
      ],
      "metadata": {
        "id": "OxWo5_uPP5_y"
      },
      "execution_count": null,
      "outputs": []
    },
    {
      "cell_type": "markdown",
      "source": [
        "Guia 3 (DICCIONARIOS)"
      ],
      "metadata": {
        "id": "zr3pJEGQQyhV"
      }
    },
    {
      "cell_type": "markdown",
      "source": [
        "ejercicio 1"
      ],
      "metadata": {
        "id": "_bWZJT8sQ16L"
      }
    },
    {
      "cell_type": "code",
      "source": [
        "alumno = {\n",
        "    \"nombre\": \"lu\",\n",
        "    \"edad\": 21,\n",
        "    \"carrera\": \"Tecnicatura en programacion\"\n",
        "}\n",
        "\n",
        "print(alumno)"
      ],
      "metadata": {
        "colab": {
          "base_uri": "https://localhost:8080/"
        },
        "id": "uCxrixeLQ391",
        "outputId": "c63d43a5-dc56-4059-e623-60442308b030"
      },
      "execution_count": null,
      "outputs": [
        {
          "output_type": "stream",
          "name": "stdout",
          "text": [
            "{'nombre': 'lu', 'edad': 21, 'carrera': 'Tecnicatura en programacion'}\n"
          ]
        }
      ]
    },
    {
      "cell_type": "markdown",
      "source": [
        "ejercicio 2"
      ],
      "metadata": {
        "id": "MnnLeuJ3RO82"
      }
    },
    {
      "cell_type": "code",
      "source": [
        "alumno[\"edad\"] = 20\n",
        "\n",
        "\n",
        "print(alumno[\"edad\"])"
      ],
      "metadata": {
        "colab": {
          "base_uri": "https://localhost:8080/"
        },
        "id": "W_t6buJERP8R",
        "outputId": "78effc2a-4283-493a-b569-cada8559e3bb"
      },
      "execution_count": null,
      "outputs": [
        {
          "output_type": "stream",
          "name": "stdout",
          "text": [
            "20\n"
          ]
        }
      ]
    },
    {
      "cell_type": "markdown",
      "source": [
        "ejercicio 3"
      ],
      "metadata": {
        "id": "_R5jQKqrSwqz"
      }
    },
    {
      "cell_type": "code",
      "source": [
        "alumno[\"universidad\"] = \"Utn\"\n",
        "\n",
        "print(alumno)"
      ],
      "metadata": {
        "colab": {
          "base_uri": "https://localhost:8080/"
        },
        "id": "AyIEkxyCS0Hc",
        "outputId": "cf775233-598f-4adb-8fdb-15b403ac616d"
      },
      "execution_count": null,
      "outputs": [
        {
          "output_type": "stream",
          "name": "stdout",
          "text": [
            "{'nombre': 'lu', 'edad': 20, 'carrera': 'Tecnicatura en programacion', 'universidad': 'Utn'}\n"
          ]
        }
      ]
    },
    {
      "cell_type": "markdown",
      "source": [
        "ejercicio 4"
      ],
      "metadata": {
        "id": "9MSyBDxXTHKk"
      }
    },
    {
      "cell_type": "code",
      "source": [
        "calificaciones = {\n",
        "    \"matematicas\": 90,\n",
        "    \"fisica\": 70,\n",
        "    \"quimica\": 60\n",
        "}\n",
        "for i in calificaciones:\n",
        "  print(i, calificaciones[i])"
      ],
      "metadata": {
        "colab": {
          "base_uri": "https://localhost:8080/"
        },
        "id": "XYKvOqLyTIn6",
        "outputId": "daf4d926-63e9-4152-ca7e-eba437bd4ca8"
      },
      "execution_count": null,
      "outputs": [
        {
          "output_type": "stream",
          "name": "stdout",
          "text": [
            "matematicas 90\n",
            "fisica 70\n",
            "quimica 60\n"
          ]
        }
      ]
    },
    {
      "cell_type": "markdown",
      "source": [
        "ejercicio 5"
      ],
      "metadata": {
        "id": "o_-9BQAnTvsD"
      }
    },
    {
      "cell_type": "code",
      "source": [
        "calificaciones.pop(\"fisica\")\n",
        "\n",
        "print(calificaciones)"
      ],
      "metadata": {
        "colab": {
          "base_uri": "https://localhost:8080/"
        },
        "id": "2OH0iBmYTxcc",
        "outputId": "f2c64835-b9ff-4215-c860-9192ed38590e"
      },
      "execution_count": null,
      "outputs": [
        {
          "output_type": "stream",
          "name": "stdout",
          "text": [
            "{'matematicas': 90, 'quimica': 60}\n"
          ]
        }
      ]
    },
    {
      "cell_type": "markdown",
      "source": [
        "ejercicio 6"
      ],
      "metadata": {
        "id": "iMJed5q4U6_T"
      }
    },
    {
      "cell_type": "code",
      "source": [
        "claves = list(calificaciones.keys())\n",
        "\n",
        "valores = list(calificaciones.values())\n",
        "\n",
        "print(\"Claves:\", claves)\n",
        "print(\"Valores:\", valores)"
      ],
      "metadata": {
        "colab": {
          "base_uri": "https://localhost:8080/"
        },
        "id": "-BetIb_fU8OK",
        "outputId": "ab4fc9c3-ae97-4d75-b35b-cd79cfa40b7a"
      },
      "execution_count": null,
      "outputs": [
        {
          "output_type": "stream",
          "name": "stdout",
          "text": [
            "Claves: ['matematicas', 'quimica']\n",
            "Valores: [90, 60]\n"
          ]
        }
      ]
    },
    {
      "cell_type": "markdown",
      "source": [
        "ejercicio 7"
      ],
      "metadata": {
        "id": "vaSM3PQGVW30"
      }
    },
    {
      "cell_type": "code",
      "source": [
        "agenda = {\n",
        "    \"contacto1\": {\n",
        "        \"nombre\": \"lu\",\n",
        "        \"telefono\": \"1234\",\n",
        "        \"mail\": \"asd\"\n",
        "    },\n",
        "    \"contacto2\": {\n",
        "        \"nombre\": \"lu\",\n",
        "        \"telefono\": \"1234\",\n",
        "        \"mail\": \"asd\"\n",
        "    },\n",
        "    \"contacto3\": {\n",
        "        \"nombre\": \"lu\",\n",
        "        \"telefono\": \"1234\",\n",
        "        \"mail\": \"asd\"\n",
        "    }\n",
        "}\n",
        "\n",
        "print(agenda)\n"
      ],
      "metadata": {
        "colab": {
          "base_uri": "https://localhost:8080/"
        },
        "id": "6t2u84pBVYSQ",
        "outputId": "dc5465df-dfba-4414-ab43-1015bff51ccc"
      },
      "execution_count": null,
      "outputs": [
        {
          "output_type": "stream",
          "name": "stdout",
          "text": [
            "{'contacto1': {'nombre': 'lu', 'telefono': '1234', 'mail': 'asd'}, 'contacto2': {'nombre': 'lu', 'telefono': '1234', 'mail': 'asd'}, 'contacto3': {'nombre': 'lu', 'telefono': '1234', 'mail': 'asd'}}\n"
          ]
        }
      ]
    },
    {
      "cell_type": "markdown",
      "source": [
        "Guia 3(TUPLAS)"
      ],
      "metadata": {
        "id": "N32br4fzWSCV"
      }
    },
    {
      "cell_type": "markdown",
      "source": [
        "ejercicio 1"
      ],
      "metadata": {
        "id": "TC_OeGFKWXNC"
      }
    },
    {
      "cell_type": "code",
      "source": [
        "meses = (\n",
        "    \"enero\",\n",
        "    \"febrero\",\n",
        "    \"marzo\",\n",
        "    \"abril\",\n",
        "    \"mayo\",\n",
        "    \"junio\",\n",
        "    \"julio\",\n",
        "    \"agosto\",\n",
        "    \"septiembre\",\n",
        "    \"octubre\",\n",
        "    \"noviembre\",\n",
        "    \"diciembre\"\n",
        ")\n",
        "print(meses)"
      ],
      "metadata": {
        "colab": {
          "base_uri": "https://localhost:8080/"
        },
        "id": "Azg4X2j2Wdue",
        "outputId": "562a9be9-a50c-4d1f-bef2-7a4b3753a710"
      },
      "execution_count": null,
      "outputs": [
        {
          "output_type": "stream",
          "name": "stdout",
          "text": [
            "('enero', 'febrero', 'marzo', 'abril', 'mayo', 'junio', 'julio', 'agosto', 'septiembre', 'octubre', 'noviembre', 'diciembre')\n"
          ]
        }
      ]
    },
    {
      "cell_type": "markdown",
      "source": [
        "ejercicio 2"
      ],
      "metadata": {
        "id": "kzbQ83RQWsFm"
      }
    },
    {
      "cell_type": "code",
      "source": [
        "print(meses[2])"
      ],
      "metadata": {
        "colab": {
          "base_uri": "https://localhost:8080/"
        },
        "id": "hr5aEcpPWtfG",
        "outputId": "6ae46ef9-be98-4aa1-bd58-bde6011989e4"
      },
      "execution_count": null,
      "outputs": [
        {
          "output_type": "stream",
          "name": "stdout",
          "text": [
            "marzo\n"
          ]
        }
      ]
    },
    {
      "cell_type": "markdown",
      "source": [
        "ejercicio 3"
      ],
      "metadata": {
        "id": "1QXo_RDcYAfF"
      }
    },
    {
      "cell_type": "code",
      "source": [
        "ultimo_mes = meses[-1]\n",
        "\n",
        "print(ultimo_mes)"
      ],
      "metadata": {
        "colab": {
          "base_uri": "https://localhost:8080/"
        },
        "id": "ZX1RgXKsYCPZ",
        "outputId": "75c46020-848c-45b9-b9e8-1deb1034ce71"
      },
      "execution_count": null,
      "outputs": [
        {
          "output_type": "stream",
          "name": "stdout",
          "text": [
            "diciembre\n"
          ]
        }
      ]
    },
    {
      "cell_type": "markdown",
      "source": [
        "ejercicio 4"
      ],
      "metadata": {
        "id": "oehXw3TxYPJu"
      }
    },
    {
      "cell_type": "code",
      "source": [
        "# meses[0] = \"nuevo_mes\"  # Esto provocará un TypeError\n",
        "# Esto ocurre porque las tuplas son inmutables, lo que significa que no puedes modificar sus elementos una vez que se han creado."
      ],
      "metadata": {
        "id": "daIY-qQTYihq"
      },
      "execution_count": null,
      "outputs": []
    },
    {
      "cell_type": "markdown",
      "source": [
        "ejercicio 5"
      ],
      "metadata": {
        "id": "aPSGFRfkYkFT"
      }
    },
    {
      "cell_type": "code",
      "source": [
        "tupla1 = (1, 2, 3)\n",
        "tupla2 = (4, 5, 6)\n",
        "\n",
        "tupla_concatenada = tupla1 + tupla2\n",
        "print(tupla_concatenada)"
      ],
      "metadata": {
        "id": "TN0K2Us7YlQH"
      },
      "execution_count": null,
      "outputs": []
    },
    {
      "cell_type": "markdown",
      "source": [
        "ejercicio 6"
      ],
      "metadata": {
        "id": "wR6cgilgZAWq"
      }
    },
    {
      "cell_type": "code",
      "source": [
        "coordenadas = (10, 20, 30)\n",
        "\n",
        "x, y, z = coordenadas\n",
        "\n",
        "print(f\"x: {x}, y: {y}, z: {z}\")"
      ],
      "metadata": {
        "colab": {
          "base_uri": "https://localhost:8080/"
        },
        "id": "7CmBOP47ZBaI",
        "outputId": "403023e8-4928-458a-c266-dd54c8799210"
      },
      "execution_count": null,
      "outputs": [
        {
          "output_type": "stream",
          "name": "stdout",
          "text": [
            "x: 10, y: 20, z: 30\n"
          ]
        }
      ]
    },
    {
      "cell_type": "markdown",
      "source": [
        "ejercicio 7"
      ],
      "metadata": {
        "id": "TVuPWyGcZl8e"
      }
    },
    {
      "cell_type": "code",
      "source": [
        "alumnos = (\n",
        "    (20, \"Juan\"),\n",
        "    (22, \"Ana\"),\n",
        "    (19, \"Luis\"),\n",
        "    (21, \"María\")\n",
        ")\n",
        "\n",
        "for edad, nombre in alumnos:\n",
        "    print(f\"Nombre: {nombre}, Edad: {edad}\")"
      ],
      "metadata": {
        "colab": {
          "base_uri": "https://localhost:8080/"
        },
        "id": "mohFuSPuZnU7",
        "outputId": "ed8746fc-400e-4802-9e7a-c1b28a6e1a6e"
      },
      "execution_count": null,
      "outputs": [
        {
          "output_type": "stream",
          "name": "stdout",
          "text": [
            "Nombre: Juan, Edad: 20\n",
            "Nombre: Ana, Edad: 22\n",
            "Nombre: Luis, Edad: 19\n",
            "Nombre: María, Edad: 21\n"
          ]
        }
      ]
    },
    {
      "cell_type": "markdown",
      "source": [
        "Guia 3(SETS)"
      ],
      "metadata": {
        "id": "sY81iS6vZ_xd"
      }
    },
    {
      "cell_type": "markdown",
      "source": [
        "ejercicio 1"
      ],
      "metadata": {
        "id": "vsRUMHsYaDu3"
      }
    },
    {
      "cell_type": "code",
      "source": [
        "frutas = {\"manzana\", \"plátano\", \"naranja\", \"pera\"}\n",
        "print(frutas)"
      ],
      "metadata": {
        "colab": {
          "base_uri": "https://localhost:8080/"
        },
        "id": "TkyIoR6vaFdE",
        "outputId": "21e15c8a-90c0-4200-d8c6-6868885f07a3"
      },
      "execution_count": null,
      "outputs": [
        {
          "output_type": "stream",
          "name": "stdout",
          "text": [
            "{'naranja', 'plátano', 'manzana', 'pera'}\n"
          ]
        }
      ]
    },
    {
      "cell_type": "markdown",
      "source": [
        "ejercicio 2"
      ],
      "metadata": {
        "id": "s5wiVKuuaTsU"
      }
    },
    {
      "cell_type": "code",
      "source": [
        "frutas1 = {\"manzana\", \"platano\", \"pera\"}\n",
        "frutas2 = {\"naranja\", \"sandia\"}\n",
        "\n",
        "frutas_unidas = frutas1.union(frutas2)\n",
        "frutas_interseccion = frutas1.intersection(frutas2)\n",
        "frutas_diferencia = frutas1.difference(frutas2)\n",
        "\n",
        "print(f\"Unidas: {frutas_unidas}\")\n",
        "print(f\"inter: {frutas_interseccion}\")\n",
        "print(f\"dife: {frutas_diferencia}\")\n",
        "\n"
      ],
      "metadata": {
        "colab": {
          "base_uri": "https://localhost:8080/"
        },
        "id": "6P6a4EiraUxD",
        "outputId": "d1c87e79-7ebc-45e9-d853-59525405d660"
      },
      "execution_count": null,
      "outputs": [
        {
          "output_type": "stream",
          "name": "stdout",
          "text": [
            "Unidas: {'naranja', 'platano', 'sandia', 'manzana', 'pera'}\n",
            "inter: set()\n",
            "dife: {'platano', 'manzana', 'pera'}\n"
          ]
        }
      ]
    },
    {
      "cell_type": "markdown",
      "source": [
        "ejercicio 3"
      ],
      "metadata": {
        "id": "zqAiM8j3chmI"
      }
    },
    {
      "cell_type": "code",
      "source": [
        "numeros = set()\n",
        "\n",
        "for i in range(1, 6):\n",
        "    numeros.add(i)\n",
        "\n",
        "numeros.remove(3)\n",
        "\n",
        "print(numeros)"
      ],
      "metadata": {
        "colab": {
          "base_uri": "https://localhost:8080/"
        },
        "id": "qVSAWEB2coA4",
        "outputId": "6085e798-5c5b-4d94-e709-e1076c64f92c"
      },
      "execution_count": null,
      "outputs": [
        {
          "output_type": "stream",
          "name": "stdout",
          "text": [
            "{1, 2, 4, 5}\n"
          ]
        }
      ]
    },
    {
      "cell_type": "markdown",
      "source": [
        "ejercicio 4"
      ],
      "metadata": {
        "id": "95k-w2Hadgwu"
      }
    },
    {
      "cell_type": "code",
      "source": [
        "vocales = {'a', 'e', 'i', 'o', 'u'}\n",
        "\n",
        "letra = input(\"Ingresa una letra: \").lower() #convertimos a minuscula\n",
        "\n",
        "if letra in vocales:\n",
        "    print(\"es una vocal.\")\n",
        "else:\n",
        "    print(\" no es una vocal.\")"
      ],
      "metadata": {
        "id": "6ciwXb3Bdi5a"
      },
      "execution_count": null,
      "outputs": []
    },
    {
      "cell_type": "markdown",
      "source": [
        "ejercicio 5"
      ],
      "metadata": {
        "id": "Sn4Kvwtxd-k7"
      }
    },
    {
      "cell_type": "code",
      "source": [
        "numeros_repetidos = [1, 2, 2, 3, 4, 4, 5, 5, 5]\n",
        "\n",
        "# eliminar duplicados\n",
        "conjunto_numeros = set(numeros_repetidos)\n",
        "\n",
        "numeros_unicos = list(conjunto_numeros)\n",
        "\n",
        "print(numeros_unicos)"
      ],
      "metadata": {
        "id": "3YBCbXKjeAbo"
      },
      "execution_count": null,
      "outputs": []
    },
    {
      "cell_type": "markdown",
      "source": [
        "ejercicio 6"
      ],
      "metadata": {
        "id": "AKm-2haCefPf"
      }
    },
    {
      "cell_type": "code",
      "source": [
        "set1 = {1, 2, 3, 4, 5}\n",
        "\n",
        "set2 = {4, 5, 6, 7, 8}\n",
        "\n",
        "es_subconjunto1 = set1.issubset(set2)\n",
        "# Alternativamente: es_subconjunto1 = set1 <= set2\n",
        "\n",
        "# Verificar si set2 es un subconjunto propio de set1\n",
        "es_subconjunto_propio2 = set2.issubset(set1) and set2 != set1\n",
        "# Alternativamente: es_subconjunto_propio2 = set2 < set1\n",
        "\n",
        "# Imprimir resultados\n",
        "print(f\"set1 es subconjunto de set2: {es_subconjunto1}\")\n",
        "print(f\"set2 es un subconjunto propio de set1: {es_subconjunto_propio2}\")"
      ],
      "metadata": {
        "id": "2KUSB9TPehGw"
      },
      "execution_count": null,
      "outputs": []
    },
    {
      "cell_type": "markdown",
      "source": [
        "ejercicio 7"
      ],
      "metadata": {
        "id": "8jS3q3vIfJpE"
      }
    },
    {
      "cell_type": "code",
      "source": [
        "setA = {1, 2, 3, 4, 5}\n",
        "setB = {4, 5, 6, 7, 8}\n",
        "\n",
        "# Eliminar los elementos comunes\n",
        "setA.difference_update(setB)\n",
        "setB.difference_update(setA)\n",
        "\n",
        "# Imprimir conj a\n",
        "print(\"\\nConjunto a después de eliminar los comunes:\")\n",
        "print(\"setA:\", setA)"
      ],
      "metadata": {
        "id": "MtARjwxlfLTl"
      },
      "execution_count": null,
      "outputs": []
    }
  ]
}